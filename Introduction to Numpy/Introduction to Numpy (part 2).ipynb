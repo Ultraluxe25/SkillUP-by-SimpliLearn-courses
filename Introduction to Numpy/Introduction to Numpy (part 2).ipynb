{
 "cells": [
  {
   "cell_type": "code",
   "execution_count": 2,
   "id": "72426149",
   "metadata": {},
   "outputs": [],
   "source": [
    "import numpy as np"
   ]
  },
  {
   "cell_type": "code",
   "execution_count": 3,
   "id": "9f6c6b88",
   "metadata": {},
   "outputs": [
    {
     "data": {
      "text/plain": [
       "array('-------Hello--------', dtype='<U20')"
      ]
     },
     "execution_count": 3,
     "metadata": {},
     "output_type": "execute_result"
    }
   ],
   "source": [
    "np.char.center('Hello', 20, fillchar='-')"
   ]
  },
  {
   "cell_type": "code",
   "execution_count": 4,
   "id": "9322ab22",
   "metadata": {},
   "outputs": [
    {
     "data": {
      "text/plain": [
       "array('Hel', dtype='<U3')"
      ]
     },
     "execution_count": 4,
     "metadata": {},
     "output_type": "execute_result"
    }
   ],
   "source": [
    "np.char.center('Hello', 3)"
   ]
  },
  {
   "cell_type": "code",
   "execution_count": 5,
   "id": "9f23f7be",
   "metadata": {},
   "outputs": [
    {
     "data": {
      "text/plain": [
       "array('Hello, world!', dtype='<U13')"
      ]
     },
     "execution_count": 5,
     "metadata": {},
     "output_type": "execute_result"
    }
   ],
   "source": [
    "np.char.capitalize('hello, World!')"
   ]
  },
  {
   "cell_type": "code",
   "execution_count": 6,
   "id": "89205be7",
   "metadata": {},
   "outputs": [
    {
     "data": {
      "text/plain": [
       "array('How Are You Doing?', dtype='<U18')"
      ]
     },
     "execution_count": 6,
     "metadata": {},
     "output_type": "execute_result"
    }
   ],
   "source": [
    "np.char.title('how are you doing?')  # capitalize each word"
   ]
  },
  {
   "cell_type": "code",
   "execution_count": 7,
   "id": "1b426f01",
   "metadata": {},
   "outputs": [
    {
     "data": {
      "text/plain": [
       "array('mother', dtype='<U6')"
      ]
     },
     "execution_count": 7,
     "metadata": {},
     "output_type": "execute_result"
    }
   ],
   "source": [
    "np.char.lower('MOTHER')"
   ]
  },
  {
   "cell_type": "code",
   "execution_count": 8,
   "id": "909e48c5",
   "metadata": {},
   "outputs": [
    {
     "data": {
      "text/plain": [
       "array(['father', 'son'], dtype='<U6')"
      ]
     },
     "execution_count": 8,
     "metadata": {},
     "output_type": "execute_result"
    }
   ],
   "source": [
    "np.char.lower(['FATHER', 'SON'])"
   ]
  },
  {
   "cell_type": "code",
   "execution_count": 10,
   "id": "7e051baf",
   "metadata": {},
   "outputs": [
    {
     "data": {
      "text/plain": [
       "array(list(['hello', 'mother', 'how', 'are', 'you']), dtype=object)"
      ]
     },
     "execution_count": 10,
     "metadata": {},
     "output_type": "execute_result"
    }
   ],
   "source": [
    "np.char.split('hello mother how are you')"
   ]
  },
  {
   "cell_type": "code",
   "execution_count": 11,
   "id": "5efe4e11",
   "metadata": {},
   "outputs": [
    {
     "data": {
      "text/plain": [
       "array(list(['hello', 'dear', 'friend!']), dtype=object)"
      ]
     },
     "execution_count": 11,
     "metadata": {},
     "output_type": "execute_result"
    }
   ],
   "source": [
    "np.char.splitlines('hello\\ndear\\nfriend!')"
   ]
  },
  {
   "cell_type": "code",
   "execution_count": 15,
   "id": "b939ca7e",
   "metadata": {},
   "outputs": [
    {
     "data": {
      "text/plain": [
       "array(['Sash', 'do you like to eat', 'pples?'], dtype='<U18')"
      ]
     },
     "execution_count": 15,
     "metadata": {},
     "output_type": "execute_result"
    }
   ],
   "source": [
    "np.char.strip(['Sasha', 'do you like to eat', 'apples?'], 'a')\n",
    "# can't understand behavior of the function .strip()"
   ]
  },
  {
   "cell_type": "code",
   "execution_count": 20,
   "id": "43ecfa5b",
   "metadata": {},
   "outputs": [
    {
     "data": {
      "text/plain": [
       "array(['I', 'l*i*k*e', 'm-o-n-k-e-y-s-!'], dtype='<U15')"
      ]
     },
     "execution_count": 20,
     "metadata": {},
     "output_type": "execute_result"
    }
   ],
   "source": [
    "np.char.join(['+', '*', '-'], ['I', 'like', 'monkeys!'])  # many separators"
   ]
  },
  {
   "cell_type": "code",
   "execution_count": 22,
   "id": "0f24e8d8",
   "metadata": {},
   "outputs": [
    {
     "data": {
      "text/plain": [
       "array(['I+ +l+i+k+e+ +m+o+n+k+e+y+s+!'], dtype='<U29')"
      ]
     },
     "execution_count": 22,
     "metadata": {},
     "output_type": "execute_result"
    }
   ],
   "source": [
    "np.char.join(['+'], ['I like monkeys!'])  # one separator"
   ]
  },
  {
   "cell_type": "code",
   "execution_count": 25,
   "id": "edfa002b",
   "metadata": {},
   "outputs": [
    {
     "name": "stderr",
     "output_type": "stream",
     "text": [
      "C:\\Python310\\lib\\site-packages\\numpy\\core\\defchararray.py:960: VisibleDeprecationWarning: Creating an ndarray from ragged nested sequences (which is a list-or-tuple of lists-or-tuples-or ndarrays with different lengths or shapes) is deprecated. If you meant to do this, you must specify 'dtype=object' when creating the ndarray.\n",
      "  _vec_string(sep, object_, 'join', (seq,)))\n"
     ]
    },
    {
     "data": {
      "text/plain": [
       "array(['21-01-2023', '19:30'], dtype='<U10')"
      ]
     },
     "execution_count": 25,
     "metadata": {},
     "output_type": "execute_result"
    }
   ],
   "source": [
    "np.char.join(['-', ':'], [['21', '01', '2023'], ['19', '30']])"
   ]
  },
  {
   "cell_type": "code",
   "execution_count": 26,
   "id": "6200cefa",
   "metadata": {},
   "outputs": [
    {
     "data": {
      "text/plain": [
       "array('I was a good economist!', dtype='<U23')"
      ]
     },
     "execution_count": 26,
     "metadata": {},
     "output_type": "execute_result"
    }
   ],
   "source": [
    "np.char.replace('I am a good economist!', 'am', 'was')"
   ]
  },
  {
   "cell_type": "code",
   "execution_count": 27,
   "id": "e255d066",
   "metadata": {},
   "outputs": [
    {
     "data": {
      "text/plain": [
       "array([0, 1, 2, 3, 4, 5, 6, 7, 8])"
      ]
     },
     "execution_count": 27,
     "metadata": {},
     "output_type": "execute_result"
    }
   ],
   "source": [
    "a = np.arange(9)\n",
    "a"
   ]
  },
  {
   "cell_type": "code",
   "execution_count": 30,
   "id": "732603ff",
   "metadata": {},
   "outputs": [
    {
     "data": {
      "text/plain": [
       "array([[0, 1, 2],\n",
       "       [3, 4, 5],\n",
       "       [6, 7, 8]])"
      ]
     },
     "execution_count": 30,
     "metadata": {},
     "output_type": "execute_result"
    }
   ],
   "source": [
    "b = a.reshape(3, 3)\n",
    "b"
   ]
  },
  {
   "cell_type": "code",
   "execution_count": 31,
   "id": "47e300fd",
   "metadata": {},
   "outputs": [
    {
     "data": {
      "text/plain": [
       "array([0, 1, 2, 3, 4, 5, 6, 7, 8])"
      ]
     },
     "execution_count": 31,
     "metadata": {},
     "output_type": "execute_result"
    }
   ],
   "source": [
    "b.flatten()"
   ]
  },
  {
   "cell_type": "code",
   "execution_count": 32,
   "id": "a3aa7489",
   "metadata": {},
   "outputs": [
    {
     "data": {
      "text/plain": [
       "array([0, 3, 6, 1, 4, 7, 2, 5, 8])"
      ]
     },
     "execution_count": 32,
     "metadata": {},
     "output_type": "execute_result"
    }
   ],
   "source": [
    "b.flatten(order='F')  # return matrix in one dimension array"
   ]
  },
  {
   "cell_type": "code",
   "execution_count": 35,
   "id": "881d9ca5",
   "metadata": {},
   "outputs": [
    {
     "data": {
      "text/plain": [
       "array([[ 0,  1,  2],\n",
       "       [ 3,  4,  5],\n",
       "       [ 6,  7,  8],\n",
       "       [ 9, 10, 11]])"
      ]
     },
     "execution_count": 35,
     "metadata": {},
     "output_type": "execute_result"
    }
   ],
   "source": [
    "a = np.arange(12).reshape(4, 3)\n",
    "a"
   ]
  },
  {
   "cell_type": "code",
   "execution_count": 36,
   "id": "ba22eec1",
   "metadata": {},
   "outputs": [
    {
     "data": {
      "text/plain": [
       "array([[ 0,  3,  6,  9],\n",
       "       [ 1,  4,  7, 10],\n",
       "       [ 2,  5,  8, 11]])"
      ]
     },
     "execution_count": 36,
     "metadata": {},
     "output_type": "execute_result"
    }
   ],
   "source": [
    "np.transpose(a)"
   ]
  },
  {
   "cell_type": "code",
   "execution_count": 38,
   "id": "9a65f47a",
   "metadata": {},
   "outputs": [
    {
     "name": "stdout",
     "output_type": "stream",
     "text": [
      "[[ 0  3  6  9]\n",
      " [ 1  4  7 10]\n",
      " [ 2  5  8 11]]\n"
     ]
    }
   ],
   "source": [
    "print(np.transpose(a))  # print shows matrix without array"
   ]
  },
  {
   "cell_type": "code",
   "execution_count": 40,
   "id": "0824d243",
   "metadata": {},
   "outputs": [
    {
     "data": {
      "text/plain": [
       "array([[0, 1, 2, 3],\n",
       "       [4, 5, 6, 7]])"
      ]
     },
     "execution_count": 40,
     "metadata": {},
     "output_type": "execute_result"
    }
   ],
   "source": [
    "b = np.arange(8).reshape(2, 4)\n",
    "b"
   ]
  },
  {
   "cell_type": "code",
   "execution_count": 42,
   "id": "58eccbef",
   "metadata": {},
   "outputs": [
    {
     "data": {
      "text/plain": [
       "array([[[0, 1],\n",
       "        [2, 3]],\n",
       "\n",
       "       [[4, 5],\n",
       "        [6, 7]]])"
      ]
     },
     "execution_count": 42,
     "metadata": {},
     "output_type": "execute_result"
    }
   ],
   "source": [
    "c = b.reshape(2, 2, 2)\n",
    "c"
   ]
  },
  {
   "cell_type": "code",
   "execution_count": 47,
   "id": "4a68a437",
   "metadata": {},
   "outputs": [
    {
     "data": {
      "text/plain": [
       "array([[[0, 1],\n",
       "        [4, 5]],\n",
       "\n",
       "       [[2, 3],\n",
       "        [6, 7]]])"
      ]
     },
     "execution_count": 47,
     "metadata": {},
     "output_type": "execute_result"
    }
   ],
   "source": [
    "np.rollaxis(c, 1)\n",
    "#  https://numpy.org/doc/stable/reference/generated/numpy.rollaxis.html"
   ]
  },
  {
   "cell_type": "code",
   "execution_count": 48,
   "id": "afb2ee30",
   "metadata": {},
   "outputs": [
    {
     "data": {
      "text/plain": [
       "array([[[0, 2],\n",
       "        [4, 6]],\n",
       "\n",
       "       [[1, 3],\n",
       "        [5, 7]]])"
      ]
     },
     "execution_count": 48,
     "metadata": {},
     "output_type": "execute_result"
    }
   ],
   "source": [
    "np.rollaxis(c, 2)"
   ]
  },
  {
   "cell_type": "code",
   "execution_count": 46,
   "id": "3adee135",
   "metadata": {},
   "outputs": [
    {
     "data": {
      "text/plain": [
       "array([[[0, 2],\n",
       "        [1, 3]],\n",
       "\n",
       "       [[4, 6],\n",
       "        [5, 7]]])"
      ]
     },
     "execution_count": 46,
     "metadata": {},
     "output_type": "execute_result"
    }
   ],
   "source": [
    "np.rollaxis(c, 2, 1)"
   ]
  },
  {
   "cell_type": "code",
   "execution_count": 52,
   "id": "350a1d38",
   "metadata": {},
   "outputs": [
    {
     "data": {
      "text/plain": [
       "array([[[0, 2],\n",
       "        [1, 3]],\n",
       "\n",
       "       [[4, 6],\n",
       "        [5, 7]]])"
      ]
     },
     "execution_count": 52,
     "metadata": {},
     "output_type": "execute_result"
    }
   ],
   "source": [
    "np.swapaxes(c, 1, 2)\n",
    "#  https://numpy.org/doc/stable/reference/generated/numpy.swapaxes.html"
   ]
  }
 ],
 "metadata": {
  "kernelspec": {
   "display_name": "Python 3 (ipykernel)",
   "language": "python",
   "name": "python3"
  },
  "language_info": {
   "codemirror_mode": {
    "name": "ipython",
    "version": 3
   },
   "file_extension": ".py",
   "mimetype": "text/x-python",
   "name": "python",
   "nbconvert_exporter": "python",
   "pygments_lexer": "ipython3",
   "version": "3.10.8"
  }
 },
 "nbformat": 4,
 "nbformat_minor": 5
}
